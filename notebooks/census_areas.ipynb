{
 "cells": [
  {
   "cell_type": "markdown",
   "metadata": {},
   "source": [
    "# Environment Setting"
   ]
  },
  {
   "cell_type": "code",
   "execution_count": 1,
   "metadata": {},
   "outputs": [
    {
     "name": "stdout",
     "output_type": "stream",
     "text": [
      "Collecting Fiona==1.8.18\n",
      "  Downloading Fiona-1.8.18-cp36-cp36m-manylinux1_x86_64.whl (14.8 MB)\n",
      "\u001b[K     |████████████████████████████████| 14.8 MB 20.7 MB/s eta 0:00:01\n",
      "\u001b[?25hRequirement already satisfied: six>=1.7 in /home/ec2-user/anaconda3/envs/python3/lib/python3.6/site-packages (from Fiona==1.8.18) (1.15.0)\n",
      "Collecting munch\n",
      "  Downloading munch-2.5.0-py2.py3-none-any.whl (10 kB)\n",
      "Requirement already satisfied: certifi in /home/ec2-user/anaconda3/envs/python3/lib/python3.6/site-packages (from Fiona==1.8.18) (2020.12.5)\n",
      "Requirement already satisfied: attrs>=17 in /home/ec2-user/anaconda3/envs/python3/lib/python3.6/site-packages (from Fiona==1.8.18) (20.3.0)\n",
      "Collecting click-plugins>=1.0\n",
      "  Downloading click_plugins-1.1.1-py2.py3-none-any.whl (7.5 kB)\n",
      "Requirement already satisfied: click<8,>=4.0 in /home/ec2-user/anaconda3/envs/python3/lib/python3.6/site-packages (from Fiona==1.8.18) (7.1.2)\n",
      "Collecting cligj>=0.5\n",
      "  Downloading cligj-0.7.2-py3-none-any.whl (7.1 kB)\n",
      "Installing collected packages: munch, cligj, click-plugins, Fiona\n",
      "Successfully installed Fiona-1.8.18 click-plugins-1.1.1 cligj-0.7.2 munch-2.5.0\n",
      "Collecting Shapely==1.7.1\n",
      "  Downloading Shapely-1.7.1-cp36-cp36m-manylinux1_x86_64.whl (1.0 MB)\n",
      "\u001b[K     |████████████████████████████████| 1.0 MB 18.1 MB/s eta 0:00:01\n",
      "\u001b[?25hInstalling collected packages: Shapely\n",
      "Successfully installed Shapely-1.7.1\n",
      "Collecting pyproj==3.0.0.post1\n",
      "  Downloading pyproj-3.0.0.post1-cp36-cp36m-manylinux2010_x86_64.whl (6.4 MB)\n",
      "\u001b[K     |████████████████████████████████| 6.4 MB 13.9 MB/s eta 0:00:01\n",
      "\u001b[?25hRequirement already satisfied: certifi in /home/ec2-user/anaconda3/envs/python3/lib/python3.6/site-packages (from pyproj==3.0.0.post1) (2020.12.5)\n",
      "Installing collected packages: pyproj\n",
      "Successfully installed pyproj-3.0.0.post1\n",
      "Collecting folium\n",
      "  Downloading folium-0.12.1-py2.py3-none-any.whl (94 kB)\n",
      "\u001b[K     |████████████████████████████████| 94 kB 4.7 MB/s  eta 0:00:01\n",
      "\u001b[?25hRequirement already satisfied: requests in /home/ec2-user/anaconda3/envs/python3/lib/python3.6/site-packages (from folium) (2.25.1)\n",
      "Requirement already satisfied: numpy in /home/ec2-user/anaconda3/envs/python3/lib/python3.6/site-packages (from folium) (1.19.5)\n",
      "Requirement already satisfied: jinja2>=2.9 in /home/ec2-user/anaconda3/envs/python3/lib/python3.6/site-packages (from folium) (2.11.3)\n",
      "Collecting branca>=0.3.0\n",
      "  Downloading branca-0.4.2-py3-none-any.whl (24 kB)\n",
      "Requirement already satisfied: MarkupSafe>=0.23 in /home/ec2-user/anaconda3/envs/python3/lib/python3.6/site-packages (from jinja2>=2.9->folium) (1.1.1)\n",
      "Requirement already satisfied: idna<3,>=2.5 in /home/ec2-user/anaconda3/envs/python3/lib/python3.6/site-packages (from requests->folium) (2.10)\n",
      "Requirement already satisfied: chardet<5,>=3.0.2 in /home/ec2-user/anaconda3/envs/python3/lib/python3.6/site-packages (from requests->folium) (3.0.4)\n",
      "Requirement already satisfied: certifi>=2017.4.17 in /home/ec2-user/anaconda3/envs/python3/lib/python3.6/site-packages (from requests->folium) (2020.12.5)\n",
      "Requirement already satisfied: urllib3<1.27,>=1.21.1 in /home/ec2-user/anaconda3/envs/python3/lib/python3.6/site-packages (from requests->folium) (1.26.4)\n",
      "Installing collected packages: branca, folium\n",
      "Successfully installed branca-0.4.2 folium-0.12.1\n"
     ]
    }
   ],
   "source": [
    "!pip install 'Fiona==1.8.18'\n",
    "!pip install 'Shapely==1.7.1'\n",
    "!pip install 'pyproj==3.0.0.post1'\n",
    "!pip install folium\n"
   ]
  },
  {
   "cell_type": "code",
   "execution_count": 1,
   "metadata": {},
   "outputs": [],
   "source": [
    "import boto3\n",
    "from branca.colormap import linear\n",
    "import fiona\n",
    "import folium\n",
    "import pandas as pd\n",
    "import numpy as np\n",
    "from pyproj import Proj, transform\n",
    "import os\n",
    "\n",
    "\n",
    "import warnings\n",
    "warnings.filterwarnings('ignore')"
   ]
  },
  {
   "cell_type": "code",
   "execution_count": 2,
   "metadata": {},
   "outputs": [],
   "source": [
    "from shapely.geometry import shape"
   ]
  },
  {
   "cell_type": "code",
   "execution_count": 3,
   "metadata": {},
   "outputs": [],
   "source": [
    "%load_ext autoreload\n",
    "%autoreload 2\n",
    "\n",
    "import sys\n",
    "\n",
    "sys.path.append(\"..\")\n",
    "\n",
    "from src.utils import S3Utils, athena_to_pandas\n",
    "from src.pipelines.shapefile_processor import ItalianCensusAreas"
   ]
  },
  {
   "cell_type": "markdown",
   "metadata": {},
   "source": [
    "# Data Sources\n",
    "\n",
    "Data for each italian region was downloaded from https://www.istat.it/it/archivio/104317 and saved to my personal S3. The data refers to 2011 census. \n",
    "\n",
    "I download data at individual \"cella censuria\" level, this is the most granular piece of geographical information made available within an administrative area. Those are usually towns and villages. Which in turn are part of on the 20 italian regions. \n",
    "\n",
    "Istat mades this data available in a set of files for each region. Therefore for each of those I downloaded:\n",
    "\n",
    "1. {region_code}_indicatori_2011_sezioni.csv'. Which are the \"celle censuarie\" for each region + a set of features.\n",
    "2. '{region_code}_11_WGS84.zip. The shapefiles in WGS84 format"
   ]
  },
  {
   "cell_type": "markdown",
   "metadata": {},
   "source": [
    "### Process Census Geographies"
   ]
  },
  {
   "cell_type": "code",
   "execution_count": 4,
   "metadata": {},
   "outputs": [
    {
     "name": "stdout",
     "output_type": "stream",
     "text": [
      "CPU times: user 160 ms, sys: 21 ms, total: 181 ms\n",
      "Wall time: 341 ms\n"
     ]
    }
   ],
   "source": [
    "%%time\n",
    "\n",
    "# Input files\n",
    "\n",
    "S3 = S3Utils('gimi-data', region = 'eu-south-1')\n",
    "directory = 'in/italy/census-areas/2011'\n",
    "paths = S3.bucket_content_keys(directory = directory)"
   ]
  },
  {
   "cell_type": "code",
   "execution_count": null,
   "metadata": {},
   "outputs": [
    {
     "name": "stdout",
     "output_type": "stream",
     "text": [
      "Archive:  R07_11_WGS84.zip\n",
      "  inflating: R07_11_WGS84/R07_11.xls  \n",
      "  inflating: R07_11_WGS84/R07_11_WGS84.dbf  \n",
      "  inflating: R07_11_WGS84/R07_11_WGS84.prj  \n",
      "  inflating: R07_11_WGS84/R07_11_WGS84.shp  \n",
      "  inflating: R07_11_WGS84/R07_11_WGS84.shx  \n",
      "/home/ec2-user/SageMaker/gimi/notebooks/R07_11_WGS84\n",
      "/home/ec2-user/SageMaker/gimi/notebooks\n",
      "Start WSG to Lat Long geometry conversion\n",
      "0\n",
      "1000\n",
      "2000\n",
      "3000\n",
      "4000\n",
      "5000\n",
      "6000\n",
      "7000\n",
      "14000\n",
      "15000\n",
      "16000\n",
      "17000\n",
      "18000\n",
      "19000\n",
      "20000\n",
      "21000\n",
      "22000\n",
      "23000\n",
      "24000\n",
      "25000\n",
      "26000\n",
      "27000\n",
      "28000\n",
      "29000\n"
     ]
    }
   ],
   "source": [
    "%%time\n",
    "\n",
    "\n",
    "for path in paths[7:]:\n",
    "    \n",
    "    if path.split(\".\")[-1] == 'zip':\n",
    "        \n",
    "        s3bucket = 'gimi-data'\n",
    "        input_path = path \n",
    "        output_path = 'out/italy/census-areas-2011/'\n",
    "        \n",
    "        # Download and unzip file\n",
    "        fname = path.split('/')[-1]\n",
    "        fname_folder = fname.split('.')[0]\n",
    "        S3.download_file(path, fname)\n",
    "        \n",
    "        # Unzip using a Bash command\n",
    "        !unzip {fname}\n",
    "        %cd {fname_folder}\n",
    "    \n",
    "        shapes = fiona.open(\"{}.shp\".format(fname_folder))\n",
    "        \n",
    "        # After loading data in memory for processing remove from local\n",
    "        %cd ..\n",
    "        !rm -rf {fname}\n",
    "        !rm -rf {fname_folder}\n",
    "        \n",
    "        # Convert shapes to a dataframe and combine with features\n",
    "        sezioni = pd.DataFrame(shapes)\n",
    "        \n",
    "        # Convert Geometries\n",
    "        print('Start WSG to Lat Long geometry conversion')\n",
    "        ic = ItalianCensusAreas()\n",
    "        shapes_df = ic.get_section_features(sezioni)\n",
    "        \n",
    "        # Drop columns not be load to db\n",
    "        cols_to_drop = ['properties', 'geometry', 'geometry_ll', 'centroid_ll']\n",
    "        shapes_df = shapes_df.drop(cols_to_drop, 1)\n",
    "        \n",
    "        # Create ouptup parquet file\n",
    "        reg = path.split(\"/\")[-1].split(\"_\")[0]\n",
    "        fname = \"region={}.parquet\".format(reg)\n",
    "        shapes_df.to_parquet(fname)\n",
    "        \n",
    "        # Save to S3\n",
    "        outpath = 'out/italy/census-areas-2011/'\n",
    "        S3 = S3Utils('gimi-data', region = 'eu-south-1')\n",
    "        S3.upload_file(fname, os.path.join(outpath, fname))\n",
    "        os.remove(fname)\n",
    "        \n",
    "    else:\n",
    "        pass\n"
   ]
  },
  {
   "cell_type": "markdown",
   "metadata": {},
   "source": [
    "# Functions"
   ]
  },
  {
   "cell_type": "markdown",
   "metadata": {},
   "source": [
    "# Save Data to S3"
   ]
  },
  {
   "cell_type": "code",
   "execution_count": 8,
   "metadata": {},
   "outputs": [],
   "source": [
    "import os\n",
    "import boto3\n",
    "import pandas as pd\n",
    "\n",
    "outdir = 'out'\n",
    "outfiles = os.listdir(outdir)"
   ]
  },
  {
   "cell_type": "code",
   "execution_count": 68,
   "metadata": {},
   "outputs": [
    {
     "name": "stdout",
     "output_type": "stream",
     "text": [
      "R16_istat_census.csv\n",
      "R09_istat_census.csv\n",
      "R19_istat_census.csv\n",
      "R17_istat_census.csv\n",
      "R07_istat_census.csv\n",
      "R10_istat_census.csv\n",
      "R06_istat_census.csv\n",
      "R02_istat_census.csv\n",
      "R05_istat_census.csv\n",
      "R11_istat_census.csv\n",
      "R08_istat_census.csv\n",
      "R15_istat_census.csv\n",
      "R20_istat_census.csv\n",
      "R04_istat_census.csv\n",
      "R12_istat_census.csv\n",
      "R18_istat_census.csv\n",
      "R03_istat_census.csv\n",
      "R14_istat_census.csv\n",
      "R13_istat_census.csv\n",
      "R01_istat_census.csv\n"
     ]
    }
   ],
   "source": [
    "csv_files = list(filter(lambda x: x.find('.csv') != -1, outfiles))\n",
    "\n",
    "bucket = \"istat-sezioni\"\n",
    "\n",
    "temps = []\n",
    "\n",
    "for f in csv_files:\n",
    "    print(f)\n",
    "    \n",
    "    temp = pd.read_csv(os.path.join(outdir, f))\n",
    "    temp['centoid_lat'] = [float(x.split(',')[0].split('(')[1]) for x in temp['centroid_ll']]\n",
    "    temp['centoid_long'] = [float(x.split(',')[1].split(')')[0].lstrip()) for x in temp['centroid_ll']]\n",
    "    temp = temp.drop(['geometry', 'properties', 'centroid_ll'], 1)\n",
    "    \n",
    "    temps.append(temp)\n",
    "\n",
    "\n",
    "fdf = pd.concat(temps)"
   ]
  },
  {
   "cell_type": "code",
   "execution_count": 69,
   "metadata": {},
   "outputs": [],
   "source": [
    "# Save file sezioni\n",
    "fname = 'sezioni-istat-2011.csv'\n",
    "\n",
    "fdf.to_csv(fname, index=False)\n",
    "\n",
    "s3_client = boto3.client('s3')\n",
    "s3_client.upload_file(fname, \n",
    "                      bucket, \n",
    "                      'out/sezioni_istat/{}'.format(fname))"
   ]
  },
  {
   "cell_type": "code",
   "execution_count": 18,
   "metadata": {},
   "outputs": [
    {
     "name": "stdout",
     "output_type": "stream",
     "text": [
      "R14_istat_census.pickle\n",
      "R15_istat_census.pickle\n",
      "R13_istat_census.pickle\n",
      "R20_istat_census.pickle\n",
      "R08_istat_census.pickle\n",
      "R06_istat_census.pickle\n",
      "R19_istat_census.pickle\n",
      "R16_istat_census.pickle\n",
      "R10_istat_census.pickle\n",
      "R02_istat_census.pickle\n",
      "R03_istat_census.pickle\n",
      "R05_istat_census.pickle\n",
      "R07_istat_census.pickle\n",
      "R17_istat_census.pickle\n",
      "R12_istat_census.pickle\n",
      "R01_istat_census.pickle\n",
      "R18_istat_census.pickle\n",
      "R04_istat_census.pickle\n",
      "R09_istat_census.pickle\n",
      "R11_istat_census.pickle\n"
     ]
    }
   ],
   "source": [
    "# Save pickeled files\n",
    "csv_files = list(filter(lambda x: x.find('.pickle') != -1, outfiles))\n",
    "\n",
    "bucket = \"istat-sezioni\"\n",
    "\n",
    "for f in csv_files:\n",
    "    print(f)\n",
    "    s3_client = boto3.client('s3')\n",
    "    s3_client.upload_file(os.path.join(outdir, f), \n",
    "                          bucket, \n",
    "                          'out/pickle/{}'.format(f))"
   ]
  },
  {
   "cell_type": "code",
   "execution_count": 43,
   "metadata": {},
   "outputs": [],
   "source": [
    "# Save variables definition\n",
    "\n",
    "fname = 'docs/tracciato_2011_sezioni.csv'\n",
    "\n",
    "schema = pd.read_csv(fname, sep = ';', encoding = 'iso-8859-1')\n",
    "schema.to_csv('tracciato_2011_sezioni.csv', encoding = 'utf-8', index = False)\n",
    "\n",
    "s3_client = boto3.client('s3')\n",
    "s3_client.upload_file('tracciato_2011_sezioni.csv', \n",
    "                      bucket, \n",
    "                      'out/schema_sezioni/tracciato_2011_sezioni.csv'.format(fname))"
   ]
  }
 ],
 "metadata": {
  "kernelspec": {
   "display_name": "conda_python3",
   "language": "python",
   "name": "conda_python3"
  },
  "language_info": {
   "codemirror_mode": {
    "name": "ipython",
    "version": 3
   },
   "file_extension": ".py",
   "mimetype": "text/x-python",
   "name": "python",
   "nbconvert_exporter": "python",
   "pygments_lexer": "ipython3",
   "version": "3.6.13"
  }
 },
 "nbformat": 4,
 "nbformat_minor": 4
}
